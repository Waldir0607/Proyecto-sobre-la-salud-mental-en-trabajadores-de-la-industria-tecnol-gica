{
  "nbformat": 4,
  "nbformat_minor": 0,
  "metadata": {
    "colab": {
      "provenance": [],
      "authorship_tag": "ABX9TyMcxQvjkrLcbQJfXPqsdiXx",
      "include_colab_link": true
    },
    "kernelspec": {
      "name": "python3",
      "display_name": "Python 3"
    },
    "language_info": {
      "name": "python"
    }
  },
  "cells": [
    {
      "cell_type": "markdown",
      "metadata": {
        "id": "view-in-github",
        "colab_type": "text"
      },
      "source": [
        "<a href=\"https://colab.research.google.com/github/Waldir0607/Proyecto-sobre-la-salud-mental-en-trabajadores-de-la-industria-tecnologica/blob/main/Proyecto_sobre_la_salud_mental_en_trabajadores_de_la_industria_tecnologica.ipynb\" target=\"_parent\"><img src=\"https://colab.research.google.com/assets/colab-badge.svg\" alt=\"Open In Colab\"/></a>"
      ]
    },
    {
      "cell_type": "code",
      "execution_count": 4,
      "metadata": {
        "colab": {
          "base_uri": "https://localhost:8080/"
        },
        "id": "5kSc_xjdL7o7",
        "outputId": "f538e8d8-3345-4241-cfad-58ce2d4c62bb"
      },
      "outputs": [
        {
          "output_type": "stream",
          "name": "stdout",
          "text": [
            "<class 'pandas.core.frame.DataFrame'>\n",
            "RangeIndex: 29141 entries, 0 to 29140\n",
            "Data columns (total 31 columns):\n",
            " #   Column                                                                                      Non-Null Count  Dtype \n",
            "---  ------                                                                                      --------------  ----- \n",
            " 0   index                                                                                       29141 non-null  int64 \n",
            " 1   ResponseID                                                                                  29141 non-null  object\n",
            " 2   Are you selfemployed                                                                        29130 non-null  object\n",
            " 3   How many employees does your company or organization have                                   23944 non-null  object\n",
            " 4   Is your employer primarily a tech companyorganization                                       23939 non-null  object\n",
            " 5   Is your primary role within your company related to techIT                                  5552 non-null   object\n",
            " 6   Do you have previous employers                                                              29120 non-null  object\n",
            " 7   Do you have a family history of mental illness                                              29120 non-null  object\n",
            " 8   Have you had a mental health disorder in the past                                           29120 non-null  object\n",
            " 9   Do you currently have a mental health disorder                                              29120 non-null  object\n",
            " 10  If yes                                                                                      3127 non-null   object\n",
            " 11   what conditions have you been diagnosed with                                               5620 non-null   object\n",
            " 12  If maybe                                                                                    29080 non-null  object\n",
            " 13   what conditions do you believe you have                                                    8378 non-null   object\n",
            " 14  Have you been diagnosed with a mental health condition by a medical professional            28582 non-null  object\n",
            " 15  If so                                                                                       26568 non-null  object\n",
            " 16   what conditions were you diagnosed with                                                    27522 non-null  object\n",
            " 17  Have you ever sought treatment for a mental health issue from a mental health professional  29120 non-null  object\n",
            " 18  What is your age                                                                            29120 non-null  object\n",
            " 19  What is your gender                                                                         18537 non-null  object\n",
            " 20  Age Group                                                                                   29078 non-null  object\n",
            " 21  What country do you live in                                                                 16698 non-null  object\n",
            " 22  What US state or territory do you live in                                                   28280 non-null  object\n",
            " 23  What country do you work in                                                                 27031 non-null  object\n",
            " 24  What US state or territory do you work in                                                   25149 non-null  object\n",
            " 25  Which of the following best describes your work position                                    29114 non-null  object\n",
            " 26  Do you work remotely                                                                        28464 non-null  object\n",
            " 27  Question Group                                                                              24927 non-null  object\n",
            " 28  Question about speaking openly about mental health vs physical health                       10816 non-null  object\n",
            " 29  Question                                                                                    6020 non-null   object\n",
            " 30  Response                                                                                    2459 non-null   object\n",
            "dtypes: int64(1), object(30)\n",
            "memory usage: 6.9+ MB\n"
          ]
        }
      ],
      "source": [
        "import pandas as pd\n",
        "df = pd.read_csv('/content/OSMI-Survey-Data.csv')\n",
        "df.info()"
      ]
    },
    {
      "cell_type": "markdown",
      "source": [
        "# Comenzamos con la limpieza de los datos"
      ],
      "metadata": {
        "id": "UD2of94WiZ4e"
      }
    },
    {
      "cell_type": "markdown",
      "source": [
        "Buscamos valores duplicados"
      ],
      "metadata": {
        "id": "S1GOPOZCienW"
      }
    },
    {
      "cell_type": "code",
      "source": [
        "df.duplicated().sum()"
      ],
      "metadata": {
        "colab": {
          "base_uri": "https://localhost:8080/"
        },
        "id": "_K1Uk7M4Nc9n",
        "outputId": "65027504-23ea-474f-b8e1-3b9807fc8b6f"
      },
      "execution_count": 6,
      "outputs": [
        {
          "output_type": "execute_result",
          "data": {
            "text/plain": [
              "0"
            ]
          },
          "metadata": {},
          "execution_count": 6
        }
      ]
    },
    {
      "cell_type": "markdown",
      "source": [
        "Buscamos valores faltantes/nulos"
      ],
      "metadata": {
        "id": "15Vr8r0tiinm"
      }
    },
    {
      "cell_type": "code",
      "source": [
        "df.isna().sum()"
      ],
      "metadata": {
        "colab": {
          "base_uri": "https://localhost:8080/"
        },
        "id": "730aDBkPNhLH",
        "outputId": "0e8253c7-ee0a-4389-f280-8a7f61bdf905"
      },
      "execution_count": 7,
      "outputs": [
        {
          "output_type": "execute_result",
          "data": {
            "text/plain": [
              "index                                                                                             0\n",
              "ResponseID                                                                                        0\n",
              "Are you selfemployed                                                                             11\n",
              "How many employees does your company or organization have                                      5197\n",
              "Is your employer primarily a tech companyorganization                                          5202\n",
              "Is your primary role within your company related to techIT                                    23589\n",
              "Do you have previous employers                                                                   21\n",
              "Do you have a family history of mental illness                                                   21\n",
              "Have you had a mental health disorder in the past                                                21\n",
              "Do you currently have a mental health disorder                                                   21\n",
              "If yes                                                                                        26014\n",
              " what conditions have you been diagnosed with                                                 23521\n",
              "If maybe                                                                                         61\n",
              " what conditions do you believe you have                                                      20763\n",
              "Have you been diagnosed with a mental health condition by a medical professional                559\n",
              "If so                                                                                          2573\n",
              " what conditions were you diagnosed with                                                       1619\n",
              "Have you ever sought treatment for a mental health issue from a mental health professional       21\n",
              "What is your age                                                                                 21\n",
              "What is your gender                                                                           10604\n",
              "Age Group                                                                                        63\n",
              "What country do you live in                                                                   12443\n",
              "What US state or territory do you live in                                                       861\n",
              "What country do you work in                                                                    2110\n",
              "What US state or territory do you work in                                                      3992\n",
              "Which of the following best describes your work position                                         27\n",
              "Do you work remotely                                                                            677\n",
              "Question Group                                                                                 4214\n",
              "Question about speaking openly about mental health vs physical health                         18325\n",
              "Question                                                                                      23121\n",
              "Response                                                                                      26682\n",
              "dtype: int64"
            ]
          },
          "metadata": {},
          "execution_count": 7
        }
      ]
    }
  ]
}